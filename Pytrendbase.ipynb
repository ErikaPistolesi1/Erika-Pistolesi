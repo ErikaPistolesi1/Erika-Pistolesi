{
  "nbformat": 4,
  "nbformat_minor": 0,
  "metadata": {
    "colab": {
      "provenance": [],
      "toc_visible": true,
      "include_colab_link": true
    },
    "kernelspec": {
      "name": "python3",
      "display_name": "Python 3"
    },
    "language_info": {
      "name": "python"
    }
  },
  "cells": [
    {
      "cell_type": "markdown",
      "metadata": {
        "id": "view-in-github",
        "colab_type": "text"
      },
      "source": [
        "<a href=\"https://colab.research.google.com/github/ErikaPistolesi1/Erika-Pistolesi/blob/master/Pytrendbase.ipynb\" target=\"_parent\"><img src=\"https://colab.research.google.com/assets/colab-badge.svg\" alt=\"Open In Colab\"/></a>"
      ]
    },
    {
      "cell_type": "markdown",
      "source": [
        "Versione 1.0 - Ultimo Agg. 30/11/2022"
      ],
      "metadata": {
        "id": "ld5cOOD0to0b"
      }
    },
    {
      "cell_type": "markdown",
      "source": [
        "# Configurazione Iniziale"
      ],
      "metadata": {
        "id": "AK0h6bxfmzVt"
      }
    },
    {
      "cell_type": "markdown",
      "source": [
        "La prima cosa da fare è installare la libreria di PyTrends. Per farlo sarà necessario eseguire la riga di codice in basso."
      ],
      "metadata": {
        "id": "YZY9rzOFm-Xl"
      }
    },
    {
      "cell_type": "code",
      "source": [
        "!pip install pytrends"
      ],
      "metadata": {
        "id": "YTgdl27jm4C5"
      },
      "execution_count": null,
      "outputs": []
    },
    {
      "cell_type": "markdown",
      "source": [
        "# Codice di Base Pytrend"
      ],
      "metadata": {
        "id": "GqhR8lSMmqZW"
      }
    },
    {
      "cell_type": "markdown",
      "source": [
        "In questo caso abbiamo analizzato, attraverso la funzione “Interest by Region (trend per regione)”, il trend di alcune keywords in ogni paese del mondo negli ultimi 30 giorni."
      ],
      "metadata": {
        "id": "u2Gj9-A-nTLs"
      }
    },
    {
      "cell_type": "code",
      "source": [
        "#importiamo le librerie per la visualizzazione dei dati e per l'analisi degli stessi\n",
        "import pandas as pd\n",
        "from pytrends.request import TrendReq\n",
        "pytrend = TrendReq()\n",
        "\n",
        "#inseriamo la lista di parole chiave\n",
        "kw_list=['Scrum', 'Project Management', 'Kanban','Waterfall']\n",
        "\n",
        "#controllo i dati dell'ultimo mese a partire da oggi e creo il payload\n",
        "pytrend.build_payload(kw_list, timeframe='today 1-m')\n",
        "\n",
        "dati = pytrend.interest_by_region()\n",
        "#controllo le righe esistenti dove il risultato è superiore allo 0 per tutte le keywords\n",
        "dati = dati[(dati != 0).all(1)]\n",
        "\n",
        "#filtro i valori nulli\n",
        "dati.dropna(how='all',axis=0, inplace=True)\n",
        "\n",
        "#visualizzo sul terminale i risultati\n",
        "print (dati)"
      ],
      "metadata": {
        "colab": {
          "base_uri": "https://localhost:8080/"
        },
        "id": "SKrQfdtGlme2",
        "outputId": "bcb3303c-35c5-4fce-ea77-72dfe0a9a385"
      },
      "execution_count": null,
      "outputs": [
        {
          "output_type": "stream",
          "name": "stdout",
          "text": [
            "                      Scrum  Project Management  Kanban  Waterfall\n",
            "geoName                                                           \n",
            "Argentina                68                  10      12         10\n",
            "Australia                10                  38       4         48\n",
            "Bangladesh                5                  64       5         26\n",
            "Belgium                  34                  36      11         19\n",
            "Brazil                   54                   6      31          9\n",
            "Canada                   19                  50       6         25\n",
            "Colombia                 69                  12      15          4\n",
            "Denmark                  41                  26      16         17\n",
            "Egypt                    19                  57       2         22\n",
            "Finland                  41                  22      11         26\n",
            "France                   46                  18      20         16\n",
            "Germany                  50                  17      21         12\n",
            "Greece                   20                  40       6         34\n",
            "Hong Kong                21                  45       6         28\n",
            "Hungary                  31                  28      14         27\n",
            "India                    13                  40       3         44\n",
            "Indonesia                17                  22       4         57\n",
            "Ireland                  23                  35       1         41\n",
            "Israel                   26                  28       7         39\n",
            "Italy                    23                  46      11         20\n",
            "Japan                    38                  24      11         27\n",
            "Kenya                     7                  82       1         10\n",
            "Malaysia                  8                  39       3         50\n",
            "Mexico                   42                  16      31         11\n",
            "Nepal                     7                  48       3         42\n",
            "Netherlands              50                  21      10         19\n",
            "New Zealand              13                  38       5         44\n",
            "Norway                   32                  25      14         29\n",
            "Pakistan                 11                  53       2         34\n",
            "Peru                     58                  12      23          7\n",
            "Philippines              11                  62       4         23\n",
            "Poland                   53                  15      16         16\n",
            "Portugal                 42                  24      15         19\n",
            "Romania                  45                  31       8         16\n",
            "Russia                   39                  28      16         17\n",
            "Singapore                16                  31       4         49\n",
            "South Korea              16                  37      10         37\n",
            "Spain                    45                  20      18         17\n",
            "Sri Lanka                 9                  44       2         45\n",
            "Sweden                   41                  24      12         23\n",
            "Switzerland              41                  22      19         18\n",
            "Taiwan                   44                  22       5         29\n",
            "Thailand                 11                  21       4         64\n",
            "Turkey                   31                  28      13         28\n",
            "Ukraine                  48                  20      15         17\n",
            "United Arab Emirates     15                  56       3         26\n",
            "United Kingdom           22                  36       5         37\n",
            "United States            17                  37       5         41\n",
            "Vietnam                  28                  37       8         27\n"
          ]
        },
        {
          "output_type": "stream",
          "name": "stderr",
          "text": [
            "/usr/local/lib/python3.7/dist-packages/pandas/util/_decorators.py:311: SettingWithCopyWarning: \n",
            "A value is trying to be set on a copy of a slice from a DataFrame\n",
            "\n",
            "See the caveats in the documentation: https://pandas.pydata.org/pandas-docs/stable/user_guide/indexing.html#returning-a-view-versus-a-copy\n",
            "  return func(*args, **kwargs)\n"
          ]
        }
      ]
    }
  ]
}